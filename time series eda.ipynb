{
 "cells": [
  {
   "cell_type": "code",
   "execution_count": 36,
   "id": "8fc230f7",
   "metadata": {},
   "outputs": [],
   "source": [
    "import pandas_datareader as pdr"
   ]
  },
  {
   "cell_type": "code",
   "execution_count": 37,
   "id": "34d4bc0b",
   "metadata": {},
   "outputs": [],
   "source": [
    "import pandas as pd \n",
    "import numpy as np \n",
    "import seaborn as sns \n",
    "import matplotlib.pyplot as plt \n",
    "%matplotlib inline"
   ]
  },
  {
   "cell_type": "code",
   "execution_count": 38,
   "id": "1c508e74",
   "metadata": {},
   "outputs": [],
   "source": [
    "from datetime import datetime"
   ]
  },
  {
   "cell_type": "code",
   "execution_count": 39,
   "id": "d0eab094",
   "metadata": {},
   "outputs": [],
   "source": [
    " df=pdr.get_data_yahoo('TSLA')\n",
    "# ye get data yahoo karne se is ne yahoo se data uthaya wo bhi last 5 years ka "
   ]
  },
  {
   "cell_type": "code",
   "execution_count": 40,
   "id": "12e4fc48",
   "metadata": {},
   "outputs": [
    {
     "data": {
      "text/html": [
       "<div>\n",
       "<style scoped>\n",
       "    .dataframe tbody tr th:only-of-type {\n",
       "        vertical-align: middle;\n",
       "    }\n",
       "\n",
       "    .dataframe tbody tr th {\n",
       "        vertical-align: top;\n",
       "    }\n",
       "\n",
       "    .dataframe thead th {\n",
       "        text-align: right;\n",
       "    }\n",
       "</style>\n",
       "<table border=\"1\" class=\"dataframe\">\n",
       "  <thead>\n",
       "    <tr style=\"text-align: right;\">\n",
       "      <th></th>\n",
       "      <th>High</th>\n",
       "      <th>Low</th>\n",
       "      <th>Open</th>\n",
       "      <th>Close</th>\n",
       "      <th>Volume</th>\n",
       "      <th>Adj Close</th>\n",
       "    </tr>\n",
       "    <tr>\n",
       "      <th>Date</th>\n",
       "      <th></th>\n",
       "      <th></th>\n",
       "      <th></th>\n",
       "      <th></th>\n",
       "      <th></th>\n",
       "      <th></th>\n",
       "    </tr>\n",
       "  </thead>\n",
       "  <tbody>\n",
       "    <tr>\n",
       "      <th>2017-10-16</th>\n",
       "      <td>23.632000</td>\n",
       "      <td>23.143999</td>\n",
       "      <td>23.584000</td>\n",
       "      <td>23.373333</td>\n",
       "      <td>80632500.0</td>\n",
       "      <td>23.373333</td>\n",
       "    </tr>\n",
       "    <tr>\n",
       "      <th>2017-10-17</th>\n",
       "      <td>23.747999</td>\n",
       "      <td>23.337999</td>\n",
       "      <td>23.393999</td>\n",
       "      <td>23.716667</td>\n",
       "      <td>49399500.0</td>\n",
       "      <td>23.716667</td>\n",
       "    </tr>\n",
       "    <tr>\n",
       "      <th>2017-10-18</th>\n",
       "      <td>24.200001</td>\n",
       "      <td>23.608667</td>\n",
       "      <td>23.731333</td>\n",
       "      <td>23.976667</td>\n",
       "      <td>74086500.0</td>\n",
       "      <td>23.976667</td>\n",
       "    </tr>\n",
       "    <tr>\n",
       "      <th>2017-10-19</th>\n",
       "      <td>23.809999</td>\n",
       "      <td>23.213333</td>\n",
       "      <td>23.704000</td>\n",
       "      <td>23.454000</td>\n",
       "      <td>75927000.0</td>\n",
       "      <td>23.454000</td>\n",
       "    </tr>\n",
       "    <tr>\n",
       "      <th>2017-10-20</th>\n",
       "      <td>23.636667</td>\n",
       "      <td>22.955999</td>\n",
       "      <td>23.512667</td>\n",
       "      <td>23.006666</td>\n",
       "      <td>73956000.0</td>\n",
       "      <td>23.006666</td>\n",
       "    </tr>\n",
       "    <tr>\n",
       "      <th>...</th>\n",
       "      <td>...</td>\n",
       "      <td>...</td>\n",
       "      <td>...</td>\n",
       "      <td>...</td>\n",
       "      <td>...</td>\n",
       "      <td>...</td>\n",
       "    </tr>\n",
       "    <tr>\n",
       "      <th>2022-10-10</th>\n",
       "      <td>226.990005</td>\n",
       "      <td>218.360001</td>\n",
       "      <td>223.929993</td>\n",
       "      <td>222.960007</td>\n",
       "      <td>67925000.0</td>\n",
       "      <td>222.960007</td>\n",
       "    </tr>\n",
       "    <tr>\n",
       "      <th>2022-10-11</th>\n",
       "      <td>225.750000</td>\n",
       "      <td>215.000000</td>\n",
       "      <td>220.949997</td>\n",
       "      <td>216.500000</td>\n",
       "      <td>77013200.0</td>\n",
       "      <td>216.500000</td>\n",
       "    </tr>\n",
       "    <tr>\n",
       "      <th>2022-10-12</th>\n",
       "      <td>219.300003</td>\n",
       "      <td>211.509995</td>\n",
       "      <td>215.330002</td>\n",
       "      <td>217.240005</td>\n",
       "      <td>66860700.0</td>\n",
       "      <td>217.240005</td>\n",
       "    </tr>\n",
       "    <tr>\n",
       "      <th>2022-10-13</th>\n",
       "      <td>222.990005</td>\n",
       "      <td>206.220001</td>\n",
       "      <td>208.300003</td>\n",
       "      <td>221.720001</td>\n",
       "      <td>91483000.0</td>\n",
       "      <td>221.720001</td>\n",
       "    </tr>\n",
       "    <tr>\n",
       "      <th>2022-10-14</th>\n",
       "      <td>226.259995</td>\n",
       "      <td>204.160004</td>\n",
       "      <td>224.009995</td>\n",
       "      <td>204.990005</td>\n",
       "      <td>93898700.0</td>\n",
       "      <td>204.990005</td>\n",
       "    </tr>\n",
       "  </tbody>\n",
       "</table>\n",
       "<p>1259 rows × 6 columns</p>\n",
       "</div>"
      ],
      "text/plain": [
       "                  High         Low        Open       Close      Volume  \\\n",
       "Date                                                                     \n",
       "2017-10-16   23.632000   23.143999   23.584000   23.373333  80632500.0   \n",
       "2017-10-17   23.747999   23.337999   23.393999   23.716667  49399500.0   \n",
       "2017-10-18   24.200001   23.608667   23.731333   23.976667  74086500.0   \n",
       "2017-10-19   23.809999   23.213333   23.704000   23.454000  75927000.0   \n",
       "2017-10-20   23.636667   22.955999   23.512667   23.006666  73956000.0   \n",
       "...                ...         ...         ...         ...         ...   \n",
       "2022-10-10  226.990005  218.360001  223.929993  222.960007  67925000.0   \n",
       "2022-10-11  225.750000  215.000000  220.949997  216.500000  77013200.0   \n",
       "2022-10-12  219.300003  211.509995  215.330002  217.240005  66860700.0   \n",
       "2022-10-13  222.990005  206.220001  208.300003  221.720001  91483000.0   \n",
       "2022-10-14  226.259995  204.160004  224.009995  204.990005  93898700.0   \n",
       "\n",
       "             Adj Close  \n",
       "Date                    \n",
       "2017-10-16   23.373333  \n",
       "2017-10-17   23.716667  \n",
       "2017-10-18   23.976667  \n",
       "2017-10-19   23.454000  \n",
       "2017-10-20   23.006666  \n",
       "...                ...  \n",
       "2022-10-10  222.960007  \n",
       "2022-10-11  216.500000  \n",
       "2022-10-12  217.240005  \n",
       "2022-10-13  221.720001  \n",
       "2022-10-14  204.990005  \n",
       "\n",
       "[1259 rows x 6 columns]"
      ]
     },
     "execution_count": 40,
     "metadata": {},
     "output_type": "execute_result"
    }
   ],
   "source": [
    "df"
   ]
  },
  {
   "cell_type": "code",
   "execution_count": 41,
   "id": "3b240e7c",
   "metadata": {},
   "outputs": [
    {
     "data": {
      "text/plain": [
       "<AxesSubplot:xlabel='Date'>"
      ]
     },
     "execution_count": 41,
     "metadata": {},
     "output_type": "execute_result"
    },
    {
     "data": {
      "image/png": "[encoded data removed]",
      "text/plain": [
       "<Figure size 432x288 with 1 Axes>"
      ]
     },
     "metadata": {
      "needs_background": "light"
     },
     "output_type": "display_data"
    }
   ],
   "source": [
    "df.plot()\n",
    "#aese karne se saare ke saare columns ka ek time ke saath i.e in this case date ke saath plot ban jaega \n"
   ]
  },
  {
   "cell_type": "code",
   "execution_count": 42,
   "id": "8393b282",
   "metadata": {},
   "outputs": [
    {
     "data": {
      "text/plain": [
       "<AxesSubplot:xlabel='Date'>"
      ]
     },
     "execution_count": 42,
     "metadata": {},
     "output_type": "execute_result"
    },
    {
     "data": {
      "image/png": "[encoded data removed]",
      "text/plain": [
       "<Figure size 432x288 with 1 Axes>"
      ]
     },
     "metadata": {
      "needs_background": "light"
     },
     "output_type": "display_data"
    }
   ],
   "source": [
    "df['High'].plot()\n",
    "#this way only high is getting plot "
   ]
  },
  {
   "cell_type": "code",
   "execution_count": 43,
   "id": "627415a4",
   "metadata": {},
   "outputs": [
    {
     "data": {
      "text/plain": [
       "<AxesSubplot:xlabel='Date'>"
      ]
     },
     "execution_count": 43,
     "metadata": {},
     "output_type": "execute_result"
    },
    {
     "data": {
      "image/png": "[encoded data removed]",
      "text/plain": [
       "<Figure size 864x288 with 1 Axes>"
      ]
     },
     "metadata": {
      "needs_background": "light"
     },
     "output_type": "display_data"
    }
   ],
   "source": [
    "#now in order to scale figure we use figsize \n",
    "df['High'].plot(figsize=(12,4))\n",
    "# ye 15 ko change karne se x axis ka dimension change hua and 4 change karne se y axis ka dimension change hoga"
   ]
  },
  {
   "cell_type": "code",
   "execution_count": 44,
   "id": "fd87e2ae",
   "metadata": {},
   "outputs": [
    {
     "data": {
      "text/plain": [
       "<AxesSubplot:xlabel='Date'>"
      ]
     },
     "execution_count": 44,
     "metadata": {},
     "output_type": "execute_result"
    },
    {
     "data": {
      "image/png": "[encoded data removed]",
      "text/plain": [
       "<Figure size 864x288 with 1 Axes>"
      ]
     },
     "metadata": {
      "needs_background": "light"
     },
     "output_type": "display_data"
    }
   ],
   "source": [
    "#time to x limit and y limit \n",
    "df['High'].plot(xlim=['2020-01-01','2021-09-01'],figsize=(12,4))\n",
    "#limits ko aese lists ki forms me likh na hota hai "
   ]
  },
  {
   "cell_type": "code",
   "execution_count": 45,
   "id": "12a73ad8",
   "metadata": {},
   "outputs": [
    {
     "data": {
      "text/plain": [
       "<AxesSubplot:xlabel='Date'>"
      ]
     },
     "execution_count": 45,
     "metadata": {},
     "output_type": "execute_result"
    },
    {
     "data": {
      "image/png": "[encoded data removed]",
      "text/plain": [
       "<Figure size 864x288 with 1 Axes>"
      ]
     },
     "metadata": {
      "needs_background": "light"
     },
     "output_type": "display_data"
    }
   ],
   "source": [
    "#now if we need to apply y limit \n",
    "df['High'].plot(xlim=['2020-01-01','2021-09-01'], ylim=[0,350],figsize=(12,4))"
   ]
  },
  {
   "cell_type": "code",
   "execution_count": 46,
   "id": "b706bf3a",
   "metadata": {},
   "outputs": [
    {
     "data": {
      "text/plain": [
       "<AxesSubplot:xlabel='Date'>"
      ]
     },
     "execution_count": 46,
     "metadata": {},
     "output_type": "execute_result"
    },
    {
     "data": {
      "image/png": "[encoded data removed]",
      "text/plain": [
       "<Figure size 864x288 with 1 Axes>"
      ]
     },
     "metadata": {
      "needs_background": "light"
     },
     "output_type": "display_data"
    }
   ],
   "source": [
    "#how to add colour \n",
    "df['High'].plot(xlim=['2020-01-01','2021-09-01'], ylim=[0,350],figsize=(12,4), c=\"Green\")"
   ]
  },
  {
   "cell_type": "code",
   "execution_count": 47,
   "id": "dc168e4a",
   "metadata": {},
   "outputs": [
    {
     "data": {
      "text/plain": [
       "<AxesSubplot:xlabel='Date'>"
      ]
     },
     "execution_count": 47,
     "metadata": {},
     "output_type": "execute_result"
    },
    {
     "data": {
      "image/png": "[encoded data removed]",
      "text/plain": [
       "<Figure size 864x288 with 1 Axes>"
      ]
     },
     "metadata": {
      "needs_background": "light"
     },
     "output_type": "display_data"
    }
   ],
   "source": [
    "#we can add line style \n",
    "df['High'].plot(xlim=['2020-01-01','2021-09-01'], ylim=[0,350],figsize=(12,4), c=\"Green\",ls='--')"
   ]
  },
  {
   "cell_type": "code",
   "execution_count": 48,
   "id": "dc959311",
   "metadata": {},
   "outputs": [
    {
     "data": {
      "text/plain": [
       "DatetimeIndex(['2017-10-16', '2017-10-17', '2017-10-18', '2017-10-19',\n",
       "               '2017-10-20', '2017-10-23', '2017-10-24', '2017-10-25',\n",
       "               '2017-10-26', '2017-10-27',\n",
       "               ...\n",
       "               '2022-10-03', '2022-10-04', '2022-10-05', '2022-10-06',\n",
       "               '2022-10-07', '2022-10-10', '2022-10-11', '2022-10-12',\n",
       "               '2022-10-13', '2022-10-14'],\n",
       "              dtype='datetime64[ns]', name='Date', length=1259, freq=None)"
      ]
     },
     "execution_count": 48,
     "metadata": {},
     "output_type": "execute_result"
    }
   ],
   "source": [
    "df.index"
   ]
  },
  {
   "cell_type": "code",
   "execution_count": 49,
   "id": "d7d4ad86",
   "metadata": {},
   "outputs": [],
   "source": [
    "index=df.loc['2017-10-16':'2021-09-01'].index\n",
    "#loc is for row location \n",
    "#and i loc is for index location"
   ]
  },
  {
   "cell_type": "code",
   "execution_count": 50,
   "id": "ae2e3734",
   "metadata": {},
   "outputs": [
    {
     "data": {
      "text/html": [
       "<div>\n",
       "<style scoped>\n",
       "    .dataframe tbody tr th:only-of-type {\n",
       "        vertical-align: middle;\n",
       "    }\n",
       "\n",
       "    .dataframe tbody tr th {\n",
       "        vertical-align: top;\n",
       "    }\n",
       "\n",
       "    .dataframe thead th {\n",
       "        text-align: right;\n",
       "    }\n",
       "</style>\n",
       "<table border=\"1\" class=\"dataframe\">\n",
       "  <thead>\n",
       "    <tr style=\"text-align: right;\">\n",
       "      <th></th>\n",
       "      <th>High</th>\n",
       "      <th>Low</th>\n",
       "      <th>Open</th>\n",
       "      <th>Close</th>\n",
       "      <th>Volume</th>\n",
       "      <th>Adj Close</th>\n",
       "    </tr>\n",
       "    <tr>\n",
       "      <th>Date</th>\n",
       "      <th></th>\n",
       "      <th></th>\n",
       "      <th></th>\n",
       "      <th></th>\n",
       "      <th></th>\n",
       "      <th></th>\n",
       "    </tr>\n",
       "  </thead>\n",
       "  <tbody>\n",
       "    <tr>\n",
       "      <th>2017-10-16</th>\n",
       "      <td>23.632000</td>\n",
       "      <td>23.143999</td>\n",
       "      <td>23.584000</td>\n",
       "      <td>23.373333</td>\n",
       "      <td>80632500.0</td>\n",
       "      <td>23.373333</td>\n",
       "    </tr>\n",
       "    <tr>\n",
       "      <th>2017-10-17</th>\n",
       "      <td>23.747999</td>\n",
       "      <td>23.337999</td>\n",
       "      <td>23.393999</td>\n",
       "      <td>23.716667</td>\n",
       "      <td>49399500.0</td>\n",
       "      <td>23.716667</td>\n",
       "    </tr>\n",
       "    <tr>\n",
       "      <th>2017-10-18</th>\n",
       "      <td>24.200001</td>\n",
       "      <td>23.608667</td>\n",
       "      <td>23.731333</td>\n",
       "      <td>23.976667</td>\n",
       "      <td>74086500.0</td>\n",
       "      <td>23.976667</td>\n",
       "    </tr>\n",
       "    <tr>\n",
       "      <th>2017-10-19</th>\n",
       "      <td>23.809999</td>\n",
       "      <td>23.213333</td>\n",
       "      <td>23.704000</td>\n",
       "      <td>23.454000</td>\n",
       "      <td>75927000.0</td>\n",
       "      <td>23.454000</td>\n",
       "    </tr>\n",
       "  </tbody>\n",
       "</table>\n",
       "</div>"
      ],
      "text/plain": [
       "                 High        Low       Open      Close      Volume  Adj Close\n",
       "Date                                                                         \n",
       "2017-10-16  23.632000  23.143999  23.584000  23.373333  80632500.0  23.373333\n",
       "2017-10-17  23.747999  23.337999  23.393999  23.716667  49399500.0  23.716667\n",
       "2017-10-18  24.200001  23.608667  23.731333  23.976667  74086500.0  23.976667\n",
       "2017-10-19  23.809999  23.213333  23.704000  23.454000  75927000.0  23.454000"
      ]
     },
     "execution_count": 50,
     "metadata": {},
     "output_type": "execute_result"
    }
   ],
   "source": [
    "df.head(4)"
   ]
  },
  {
   "cell_type": "code",
   "execution_count": 51,
   "id": "65717d2e",
   "metadata": {},
   "outputs": [],
   "source": [
    "# now lets see ki in dates pe kis open kya tha \n",
    "open1=df.loc['2017-10-16':'2021-09-01']['Open']"
   ]
  },
  {
   "cell_type": "code",
   "execution_count": 52,
   "id": "f1f58158",
   "metadata": {},
   "outputs": [
    {
     "data": {
      "text/plain": [
       "[<matplotlib.lines.Line2D at 0x2454c04ed00>]"
      ]
     },
     "execution_count": 52,
     "metadata": {},
     "output_type": "execute_result"
    },
    {
     "data": {
      "image/png": "[encoded data removed]",
      "text/plain": [
       "<Figure size 432x288 with 1 Axes>"
      ]
     },
     "metadata": {
      "needs_background": "light"
     },
     "output_type": "display_data"
    }
   ],
   "source": [
    "\n",
    "plt.plot(index,open1)\n",
    "#ya to ma directly aese plt.plot karke plot kardu graphs "
   ]
  },
  {
   "cell_type": "code",
   "execution_count": 53,
   "id": "5f3d51d0",
   "metadata": {},
   "outputs": [
    {
     "data": {
      "image/png": "[encoded data removed]",
      "text/plain": [
       "<Figure size 432x288 with 1 Axes>"
      ]
     },
     "metadata": {
      "needs_background": "light"
     },
     "output_type": "display_data"
    }
   ],
   "source": [
    "#ya fir \n",
    "figure,axis=plt.subplots()\n",
    "axis.plot(index,open1)\n",
    "plt.tight_layout()\n",
    "\n",
    "#plt.tight_layout is used to add padding b/w the labels of the axis"
   ]
  },
  {
   "cell_type": "code",
   "execution_count": 54,
   "id": "f87b05fc",
   "metadata": {},
   "outputs": [
    {
     "data": {
      "image/png": "[encoded data removed]",
      "text/plain": [
       "<Figure size 432x288 with 1 Axes>"
      ]
     },
     "metadata": {
      "needs_background": "light"
     },
     "output_type": "display_data"
    }
   ],
   "source": [
    "plt.plot(index,open1)\n",
    "plt.tight_layout()\n"
   ]
  },
  {
   "cell_type": "code",
   "execution_count": 55,
   "id": "44e1d7f3",
   "metadata": {},
   "outputs": [
    {
     "data": {
      "text/plain": [
       "[<matplotlib.lines.Line2D at 0x2454b82e6d0>]"
      ]
     },
     "execution_count": 55,
     "metadata": {},
     "output_type": "execute_result"
    },
    {
     "data": {
      "image/png": "[encoded data removed]",
      "text/plain": [
       "<Figure size 432x288 with 1 Axes>"
      ]
     },
     "metadata": {
      "needs_background": "light"
     },
     "output_type": "display_data"
    }
   ],
   "source": [
    "plt.plot(index,open1)"
   ]
  },
  {
   "cell_type": "code",
   "execution_count": 56,
   "id": "a6817e6f",
   "metadata": {},
   "outputs": [
    {
     "data": {
      "image/png": "[encoded data removed]",
      "text/plain": [
       "<Figure size 432x288 with 1 Axes>"
      ]
     },
     "metadata": {
      "needs_background": "light"
     },
     "output_type": "display_data"
    }
   ],
   "source": [
    "#another way to prevent overlapping \n",
    "figure,axis=plt.subplots()\n",
    "axis.plot(index,open1)\n",
    "figure.autofmt_xdate()"
   ]
  },
  {
   "cell_type": "code",
   "execution_count": 57,
   "id": "c26929e8",
   "metadata": {},
   "outputs": [],
   "source": [
    "#now as we can see the date was the index now its time to reset index \n",
    "df= df.reset_index()"
   ]
  },
  {
   "cell_type": "code",
   "execution_count": 58,
   "id": "8bc97b13",
   "metadata": {},
   "outputs": [
    {
     "name": "stdout",
     "output_type": "stream",
     "text": [
      "<class 'pandas.core.frame.DataFrame'>\n",
      "RangeIndex: 1259 entries, 0 to 1258\n",
      "Data columns (total 7 columns):\n",
      " #   Column     Non-Null Count  Dtype         \n",
      "---  ------     --------------  -----         \n",
      " 0   Date       1259 non-null   datetime64[ns]\n",
      " 1   High       1259 non-null   float64       \n",
      " 2   Low        1259 non-null   float64       \n",
      " 3   Open       1259 non-null   float64       \n",
      " 4   Close      1259 non-null   float64       \n",
      " 5   Volume     1259 non-null   float64       \n",
      " 6   Adj Close  1259 non-null   float64       \n",
      "dtypes: datetime64[ns](1), float64(6)\n",
      "memory usage: 69.0 KB\n"
     ]
    }
   ],
   "source": [
    "df.info()"
   ]
  },
  {
   "cell_type": "code",
   "execution_count": 59,
   "id": "5f0932e1",
   "metadata": {},
   "outputs": [
    {
     "data": {
      "text/plain": [
       "Date         0\n",
       "High         0\n",
       "Low          0\n",
       "Open         0\n",
       "Close        0\n",
       "Volume       0\n",
       "Adj Close    0\n",
       "dtype: int64"
      ]
     },
     "execution_count": 59,
     "metadata": {},
     "output_type": "execute_result"
    }
   ],
   "source": [
    "df.isnull().sum()"
   ]
  },
  {
   "cell_type": "code",
   "execution_count": 60,
   "id": "df238116",
   "metadata": {},
   "outputs": [
    {
     "name": "stdout",
     "output_type": "stream",
     "text": [
      "<class 'pandas.core.frame.DataFrame'>\n",
      "RangeIndex: 1259 entries, 0 to 1258\n",
      "Data columns (total 7 columns):\n",
      " #   Column     Non-Null Count  Dtype         \n",
      "---  ------     --------------  -----         \n",
      " 0   Date       1259 non-null   datetime64[ns]\n",
      " 1   High       1259 non-null   float64       \n",
      " 2   Low        1259 non-null   float64       \n",
      " 3   Open       1259 non-null   float64       \n",
      " 4   Close      1259 non-null   float64       \n",
      " 5   Volume     1259 non-null   float64       \n",
      " 6   Adj Close  1259 non-null   float64       \n",
      "dtypes: datetime64[ns](1), float64(6)\n",
      "memory usage: 69.0 KB\n"
     ]
    }
   ],
   "source": [
    "df.info()"
   ]
  },
  {
   "cell_type": "code",
   "execution_count": 61,
   "id": "5d2d6dda",
   "metadata": {},
   "outputs": [
    {
     "data": {
      "text/plain": [
       "0      2017-10-16\n",
       "1      2017-10-17\n",
       "2      2017-10-18\n",
       "3      2017-10-19\n",
       "4      2017-10-20\n",
       "          ...    \n",
       "1254   2022-10-10\n",
       "1255   2022-10-11\n",
       "1256   2022-10-12\n",
       "1257   2022-10-13\n",
       "1258   2022-10-14\n",
       "Name: Date, Length: 1259, dtype: datetime64[ns]"
      ]
     },
     "execution_count": 61,
     "metadata": {},
     "output_type": "execute_result"
    }
   ],
   "source": [
    "#as we see in this data set the date is already in the datetime64 format but incase its not in this format \n",
    "#to convert it in the date time format \n",
    "pd.to_datetime(df['Date'])\n"
   ]
  },
  {
   "cell_type": "code",
   "execution_count": 65,
   "id": "b8752c37",
   "metadata": {},
   "outputs": [],
   "source": [
    "#now remove the index and set date as index back \n",
    "df=df.set_index(df['Date'])\n"
   ]
  },
  {
   "cell_type": "code",
   "execution_count": 63,
   "id": "ea82a325",
   "metadata": {},
   "outputs": [],
   "source": [
    "#now since date column is not droped to drop it manually \n",
    "# df.drop('Date',axis=1,inplace=True)\n",
    "#this shit didnt work is se to pure df se hi date wala column remove ho gya "
   ]
  },
  {
   "cell_type": "code",
   "execution_count": 66,
   "id": "2ba2e0e6",
   "metadata": {},
   "outputs": [
    {
     "data": {
      "text/html": [
       "<div>\n",
       "<style scoped>\n",
       "    .dataframe tbody tr th:only-of-type {\n",
       "        vertical-align: middle;\n",
       "    }\n",
       "\n",
       "    .dataframe tbody tr th {\n",
       "        vertical-align: top;\n",
       "    }\n",
       "\n",
       "    .dataframe thead th {\n",
       "        text-align: right;\n",
       "    }\n",
       "</style>\n",
       "<table border=\"1\" class=\"dataframe\">\n",
       "  <thead>\n",
       "    <tr style=\"text-align: right;\">\n",
       "      <th></th>\n",
       "      <th>Date</th>\n",
       "      <th>High</th>\n",
       "      <th>Low</th>\n",
       "      <th>Open</th>\n",
       "      <th>Close</th>\n",
       "      <th>Volume</th>\n",
       "      <th>Adj Close</th>\n",
       "    </tr>\n",
       "    <tr>\n",
       "      <th>Date</th>\n",
       "      <th></th>\n",
       "      <th></th>\n",
       "      <th></th>\n",
       "      <th></th>\n",
       "      <th></th>\n",
       "      <th></th>\n",
       "      <th></th>\n",
       "    </tr>\n",
       "  </thead>\n",
       "  <tbody>\n",
       "    <tr>\n",
       "      <th>2017-10-16</th>\n",
       "      <td>2017-10-16</td>\n",
       "      <td>23.632000</td>\n",
       "      <td>23.143999</td>\n",
       "      <td>23.584000</td>\n",
       "      <td>23.373333</td>\n",
       "      <td>80632500.0</td>\n",
       "      <td>23.373333</td>\n",
       "    </tr>\n",
       "    <tr>\n",
       "      <th>2017-10-17</th>\n",
       "      <td>2017-10-17</td>\n",
       "      <td>23.747999</td>\n",
       "      <td>23.337999</td>\n",
       "      <td>23.393999</td>\n",
       "      <td>23.716667</td>\n",
       "      <td>49399500.0</td>\n",
       "      <td>23.716667</td>\n",
       "    </tr>\n",
       "    <tr>\n",
       "      <th>2017-10-18</th>\n",
       "      <td>2017-10-18</td>\n",
       "      <td>24.200001</td>\n",
       "      <td>23.608667</td>\n",
       "      <td>23.731333</td>\n",
       "      <td>23.976667</td>\n",
       "      <td>74086500.0</td>\n",
       "      <td>23.976667</td>\n",
       "    </tr>\n",
       "    <tr>\n",
       "      <th>2017-10-19</th>\n",
       "      <td>2017-10-19</td>\n",
       "      <td>23.809999</td>\n",
       "      <td>23.213333</td>\n",
       "      <td>23.704000</td>\n",
       "      <td>23.454000</td>\n",
       "      <td>75927000.0</td>\n",
       "      <td>23.454000</td>\n",
       "    </tr>\n",
       "    <tr>\n",
       "      <th>2017-10-20</th>\n",
       "      <td>2017-10-20</td>\n",
       "      <td>23.636667</td>\n",
       "      <td>22.955999</td>\n",
       "      <td>23.512667</td>\n",
       "      <td>23.006666</td>\n",
       "      <td>73956000.0</td>\n",
       "      <td>23.006666</td>\n",
       "    </tr>\n",
       "    <tr>\n",
       "      <th>...</th>\n",
       "      <td>...</td>\n",
       "      <td>...</td>\n",
       "      <td>...</td>\n",
       "      <td>...</td>\n",
       "      <td>...</td>\n",
       "      <td>...</td>\n",
       "      <td>...</td>\n",
       "    </tr>\n",
       "    <tr>\n",
       "      <th>2022-10-10</th>\n",
       "      <td>2022-10-10</td>\n",
       "      <td>226.990005</td>\n",
       "      <td>218.360001</td>\n",
       "      <td>223.929993</td>\n",
       "      <td>222.960007</td>\n",
       "      <td>67925000.0</td>\n",
       "      <td>222.960007</td>\n",
       "    </tr>\n",
       "    <tr>\n",
       "      <th>2022-10-11</th>\n",
       "      <td>2022-10-11</td>\n",
       "      <td>225.750000</td>\n",
       "      <td>215.000000</td>\n",
       "      <td>220.949997</td>\n",
       "      <td>216.500000</td>\n",
       "      <td>77013200.0</td>\n",
       "      <td>216.500000</td>\n",
       "    </tr>\n",
       "    <tr>\n",
       "      <th>2022-10-12</th>\n",
       "      <td>2022-10-12</td>\n",
       "      <td>219.300003</td>\n",
       "      <td>211.509995</td>\n",
       "      <td>215.330002</td>\n",
       "      <td>217.240005</td>\n",
       "      <td>66860700.0</td>\n",
       "      <td>217.240005</td>\n",
       "    </tr>\n",
       "    <tr>\n",
       "      <th>2022-10-13</th>\n",
       "      <td>2022-10-13</td>\n",
       "      <td>222.990005</td>\n",
       "      <td>206.220001</td>\n",
       "      <td>208.300003</td>\n",
       "      <td>221.720001</td>\n",
       "      <td>91483000.0</td>\n",
       "      <td>221.720001</td>\n",
       "    </tr>\n",
       "    <tr>\n",
       "      <th>2022-10-14</th>\n",
       "      <td>2022-10-14</td>\n",
       "      <td>226.259995</td>\n",
       "      <td>204.160004</td>\n",
       "      <td>224.009995</td>\n",
       "      <td>204.990005</td>\n",
       "      <td>93898700.0</td>\n",
       "      <td>204.990005</td>\n",
       "    </tr>\n",
       "  </tbody>\n",
       "</table>\n",
       "<p>1259 rows × 7 columns</p>\n",
       "</div>"
      ],
      "text/plain": [
       "                 Date        High         Low        Open       Close  \\\n",
       "Date                                                                    \n",
       "2017-10-16 2017-10-16   23.632000   23.143999   23.584000   23.373333   \n",
       "2017-10-17 2017-10-17   23.747999   23.337999   23.393999   23.716667   \n",
       "2017-10-18 2017-10-18   24.200001   23.608667   23.731333   23.976667   \n",
       "2017-10-19 2017-10-19   23.809999   23.213333   23.704000   23.454000   \n",
       "2017-10-20 2017-10-20   23.636667   22.955999   23.512667   23.006666   \n",
       "...               ...         ...         ...         ...         ...   \n",
       "2022-10-10 2022-10-10  226.990005  218.360001  223.929993  222.960007   \n",
       "2022-10-11 2022-10-11  225.750000  215.000000  220.949997  216.500000   \n",
       "2022-10-12 2022-10-12  219.300003  211.509995  215.330002  217.240005   \n",
       "2022-10-13 2022-10-13  222.990005  206.220001  208.300003  221.720001   \n",
       "2022-10-14 2022-10-14  226.259995  204.160004  224.009995  204.990005   \n",
       "\n",
       "                Volume   Adj Close  \n",
       "Date                                \n",
       "2017-10-16  80632500.0   23.373333  \n",
       "2017-10-17  49399500.0   23.716667  \n",
       "2017-10-18  74086500.0   23.976667  \n",
       "2017-10-19  75927000.0   23.454000  \n",
       "2017-10-20  73956000.0   23.006666  \n",
       "...                ...         ...  \n",
       "2022-10-10  67925000.0  222.960007  \n",
       "2022-10-11  77013200.0  216.500000  \n",
       "2022-10-12  66860700.0  217.240005  \n",
       "2022-10-13  91483000.0  221.720001  \n",
       "2022-10-14  93898700.0  204.990005  \n",
       "\n",
       "[1259 rows x 7 columns]"
      ]
     },
     "execution_count": 66,
     "metadata": {},
     "output_type": "execute_result"
    }
   ],
   "source": [
    "df"
   ]
  },
  {
   "cell_type": "code",
   "execution_count": 67,
   "id": "75ff6aca",
   "metadata": {},
   "outputs": [],
   "source": [
    "df=df.set_index(df['Date'],drop=True)\n",
    "#jub set index karna ho to aese drop karna\n",
    "#it didnt work too , try another way \n",
    "#doing this kept df same"
   ]
  },
  {
   "cell_type": "code",
   "execution_count": 68,
   "id": "b067d63b",
   "metadata": {},
   "outputs": [
    {
     "data": {
      "text/html": [
       "<div>\n",
       "<style scoped>\n",
       "    .dataframe tbody tr th:only-of-type {\n",
       "        vertical-align: middle;\n",
       "    }\n",
       "\n",
       "    .dataframe tbody tr th {\n",
       "        vertical-align: top;\n",
       "    }\n",
       "\n",
       "    .dataframe thead th {\n",
       "        text-align: right;\n",
       "    }\n",
       "</style>\n",
       "<table border=\"1\" class=\"dataframe\">\n",
       "  <thead>\n",
       "    <tr style=\"text-align: right;\">\n",
       "      <th></th>\n",
       "      <th>Date</th>\n",
       "      <th>High</th>\n",
       "      <th>Low</th>\n",
       "      <th>Open</th>\n",
       "      <th>Close</th>\n",
       "      <th>Volume</th>\n",
       "      <th>Adj Close</th>\n",
       "    </tr>\n",
       "    <tr>\n",
       "      <th>Date</th>\n",
       "      <th></th>\n",
       "      <th></th>\n",
       "      <th></th>\n",
       "      <th></th>\n",
       "      <th></th>\n",
       "      <th></th>\n",
       "      <th></th>\n",
       "    </tr>\n",
       "  </thead>\n",
       "  <tbody>\n",
       "    <tr>\n",
       "      <th>2017-10-16</th>\n",
       "      <td>2017-10-16</td>\n",
       "      <td>23.632000</td>\n",
       "      <td>23.143999</td>\n",
       "      <td>23.584000</td>\n",
       "      <td>23.373333</td>\n",
       "      <td>80632500.0</td>\n",
       "      <td>23.373333</td>\n",
       "    </tr>\n",
       "    <tr>\n",
       "      <th>2017-10-17</th>\n",
       "      <td>2017-10-17</td>\n",
       "      <td>23.747999</td>\n",
       "      <td>23.337999</td>\n",
       "      <td>23.393999</td>\n",
       "      <td>23.716667</td>\n",
       "      <td>49399500.0</td>\n",
       "      <td>23.716667</td>\n",
       "    </tr>\n",
       "    <tr>\n",
       "      <th>2017-10-18</th>\n",
       "      <td>2017-10-18</td>\n",
       "      <td>24.200001</td>\n",
       "      <td>23.608667</td>\n",
       "      <td>23.731333</td>\n",
       "      <td>23.976667</td>\n",
       "      <td>74086500.0</td>\n",
       "      <td>23.976667</td>\n",
       "    </tr>\n",
       "    <tr>\n",
       "      <th>2017-10-19</th>\n",
       "      <td>2017-10-19</td>\n",
       "      <td>23.809999</td>\n",
       "      <td>23.213333</td>\n",
       "      <td>23.704000</td>\n",
       "      <td>23.454000</td>\n",
       "      <td>75927000.0</td>\n",
       "      <td>23.454000</td>\n",
       "    </tr>\n",
       "    <tr>\n",
       "      <th>2017-10-20</th>\n",
       "      <td>2017-10-20</td>\n",
       "      <td>23.636667</td>\n",
       "      <td>22.955999</td>\n",
       "      <td>23.512667</td>\n",
       "      <td>23.006666</td>\n",
       "      <td>73956000.0</td>\n",
       "      <td>23.006666</td>\n",
       "    </tr>\n",
       "    <tr>\n",
       "      <th>...</th>\n",
       "      <td>...</td>\n",
       "      <td>...</td>\n",
       "      <td>...</td>\n",
       "      <td>...</td>\n",
       "      <td>...</td>\n",
       "      <td>...</td>\n",
       "      <td>...</td>\n",
       "    </tr>\n",
       "    <tr>\n",
       "      <th>2022-10-10</th>\n",
       "      <td>2022-10-10</td>\n",
       "      <td>226.990005</td>\n",
       "      <td>218.360001</td>\n",
       "      <td>223.929993</td>\n",
       "      <td>222.960007</td>\n",
       "      <td>67925000.0</td>\n",
       "      <td>222.960007</td>\n",
       "    </tr>\n",
       "    <tr>\n",
       "      <th>2022-10-11</th>\n",
       "      <td>2022-10-11</td>\n",
       "      <td>225.750000</td>\n",
       "      <td>215.000000</td>\n",
       "      <td>220.949997</td>\n",
       "      <td>216.500000</td>\n",
       "      <td>77013200.0</td>\n",
       "      <td>216.500000</td>\n",
       "    </tr>\n",
       "    <tr>\n",
       "      <th>2022-10-12</th>\n",
       "      <td>2022-10-12</td>\n",
       "      <td>219.300003</td>\n",
       "      <td>211.509995</td>\n",
       "      <td>215.330002</td>\n",
       "      <td>217.240005</td>\n",
       "      <td>66860700.0</td>\n",
       "      <td>217.240005</td>\n",
       "    </tr>\n",
       "    <tr>\n",
       "      <th>2022-10-13</th>\n",
       "      <td>2022-10-13</td>\n",
       "      <td>222.990005</td>\n",
       "      <td>206.220001</td>\n",
       "      <td>208.300003</td>\n",
       "      <td>221.720001</td>\n",
       "      <td>91483000.0</td>\n",
       "      <td>221.720001</td>\n",
       "    </tr>\n",
       "    <tr>\n",
       "      <th>2022-10-14</th>\n",
       "      <td>2022-10-14</td>\n",
       "      <td>226.259995</td>\n",
       "      <td>204.160004</td>\n",
       "      <td>224.009995</td>\n",
       "      <td>204.990005</td>\n",
       "      <td>93898700.0</td>\n",
       "      <td>204.990005</td>\n",
       "    </tr>\n",
       "  </tbody>\n",
       "</table>\n",
       "<p>1259 rows × 7 columns</p>\n",
       "</div>"
      ],
      "text/plain": [
       "                 Date        High         Low        Open       Close  \\\n",
       "Date                                                                    \n",
       "2017-10-16 2017-10-16   23.632000   23.143999   23.584000   23.373333   \n",
       "2017-10-17 2017-10-17   23.747999   23.337999   23.393999   23.716667   \n",
       "2017-10-18 2017-10-18   24.200001   23.608667   23.731333   23.976667   \n",
       "2017-10-19 2017-10-19   23.809999   23.213333   23.704000   23.454000   \n",
       "2017-10-20 2017-10-20   23.636667   22.955999   23.512667   23.006666   \n",
       "...               ...         ...         ...         ...         ...   \n",
       "2022-10-10 2022-10-10  226.990005  218.360001  223.929993  222.960007   \n",
       "2022-10-11 2022-10-11  225.750000  215.000000  220.949997  216.500000   \n",
       "2022-10-12 2022-10-12  219.300003  211.509995  215.330002  217.240005   \n",
       "2022-10-13 2022-10-13  222.990005  206.220001  208.300003  221.720001   \n",
       "2022-10-14 2022-10-14  226.259995  204.160004  224.009995  204.990005   \n",
       "\n",
       "                Volume   Adj Close  \n",
       "Date                                \n",
       "2017-10-16  80632500.0   23.373333  \n",
       "2017-10-17  49399500.0   23.716667  \n",
       "2017-10-18  74086500.0   23.976667  \n",
       "2017-10-19  75927000.0   23.454000  \n",
       "2017-10-20  73956000.0   23.006666  \n",
       "...                ...         ...  \n",
       "2022-10-10  67925000.0  222.960007  \n",
       "2022-10-11  77013200.0  216.500000  \n",
       "2022-10-12  66860700.0  217.240005  \n",
       "2022-10-13  91483000.0  221.720001  \n",
       "2022-10-14  93898700.0  204.990005  \n",
       "\n",
       "[1259 rows x 7 columns]"
      ]
     },
     "execution_count": 68,
     "metadata": {},
     "output_type": "execute_result"
    }
   ],
   "source": [
    "df"
   ]
  },
  {
   "cell_type": "code",
   "execution_count": 69,
   "id": "fd9a5626",
   "metadata": {},
   "outputs": [],
   "source": [
    "df=df.set_index('Date',drop=True)"
   ]
  },
  {
   "cell_type": "code",
   "execution_count": 70,
   "id": "7ebd55de",
   "metadata": {},
   "outputs": [
    {
     "data": {
      "text/html": [
       "<div>\n",
       "<style scoped>\n",
       "    .dataframe tbody tr th:only-of-type {\n",
       "        vertical-align: middle;\n",
       "    }\n",
       "\n",
       "    .dataframe tbody tr th {\n",
       "        vertical-align: top;\n",
       "    }\n",
       "\n",
       "    .dataframe thead th {\n",
       "        text-align: right;\n",
       "    }\n",
       "</style>\n",
       "<table border=\"1\" class=\"dataframe\">\n",
       "  <thead>\n",
       "    <tr style=\"text-align: right;\">\n",
       "      <th></th>\n",
       "      <th>High</th>\n",
       "      <th>Low</th>\n",
       "      <th>Open</th>\n",
       "      <th>Close</th>\n",
       "      <th>Volume</th>\n",
       "      <th>Adj Close</th>\n",
       "    </tr>\n",
       "    <tr>\n",
       "      <th>Date</th>\n",
       "      <th></th>\n",
       "      <th></th>\n",
       "      <th></th>\n",
       "      <th></th>\n",
       "      <th></th>\n",
       "      <th></th>\n",
       "    </tr>\n",
       "  </thead>\n",
       "  <tbody>\n",
       "    <tr>\n",
       "      <th>2017-10-16</th>\n",
       "      <td>23.632000</td>\n",
       "      <td>23.143999</td>\n",
       "      <td>23.584000</td>\n",
       "      <td>23.373333</td>\n",
       "      <td>80632500.0</td>\n",
       "      <td>23.373333</td>\n",
       "    </tr>\n",
       "    <tr>\n",
       "      <th>2017-10-17</th>\n",
       "      <td>23.747999</td>\n",
       "      <td>23.337999</td>\n",
       "      <td>23.393999</td>\n",
       "      <td>23.716667</td>\n",
       "      <td>49399500.0</td>\n",
       "      <td>23.716667</td>\n",
       "    </tr>\n",
       "    <tr>\n",
       "      <th>2017-10-18</th>\n",
       "      <td>24.200001</td>\n",
       "      <td>23.608667</td>\n",
       "      <td>23.731333</td>\n",
       "      <td>23.976667</td>\n",
       "      <td>74086500.0</td>\n",
       "      <td>23.976667</td>\n",
       "    </tr>\n",
       "    <tr>\n",
       "      <th>2017-10-19</th>\n",
       "      <td>23.809999</td>\n",
       "      <td>23.213333</td>\n",
       "      <td>23.704000</td>\n",
       "      <td>23.454000</td>\n",
       "      <td>75927000.0</td>\n",
       "      <td>23.454000</td>\n",
       "    </tr>\n",
       "    <tr>\n",
       "      <th>2017-10-20</th>\n",
       "      <td>23.636667</td>\n",
       "      <td>22.955999</td>\n",
       "      <td>23.512667</td>\n",
       "      <td>23.006666</td>\n",
       "      <td>73956000.0</td>\n",
       "      <td>23.006666</td>\n",
       "    </tr>\n",
       "    <tr>\n",
       "      <th>...</th>\n",
       "      <td>...</td>\n",
       "      <td>...</td>\n",
       "      <td>...</td>\n",
       "      <td>...</td>\n",
       "      <td>...</td>\n",
       "      <td>...</td>\n",
       "    </tr>\n",
       "    <tr>\n",
       "      <th>2022-10-10</th>\n",
       "      <td>226.990005</td>\n",
       "      <td>218.360001</td>\n",
       "      <td>223.929993</td>\n",
       "      <td>222.960007</td>\n",
       "      <td>67925000.0</td>\n",
       "      <td>222.960007</td>\n",
       "    </tr>\n",
       "    <tr>\n",
       "      <th>2022-10-11</th>\n",
       "      <td>225.750000</td>\n",
       "      <td>215.000000</td>\n",
       "      <td>220.949997</td>\n",
       "      <td>216.500000</td>\n",
       "      <td>77013200.0</td>\n",
       "      <td>216.500000</td>\n",
       "    </tr>\n",
       "    <tr>\n",
       "      <th>2022-10-12</th>\n",
       "      <td>219.300003</td>\n",
       "      <td>211.509995</td>\n",
       "      <td>215.330002</td>\n",
       "      <td>217.240005</td>\n",
       "      <td>66860700.0</td>\n",
       "      <td>217.240005</td>\n",
       "    </tr>\n",
       "    <tr>\n",
       "      <th>2022-10-13</th>\n",
       "      <td>222.990005</td>\n",
       "      <td>206.220001</td>\n",
       "      <td>208.300003</td>\n",
       "      <td>221.720001</td>\n",
       "      <td>91483000.0</td>\n",
       "      <td>221.720001</td>\n",
       "    </tr>\n",
       "    <tr>\n",
       "      <th>2022-10-14</th>\n",
       "      <td>226.259995</td>\n",
       "      <td>204.160004</td>\n",
       "      <td>224.009995</td>\n",
       "      <td>204.990005</td>\n",
       "      <td>93898700.0</td>\n",
       "      <td>204.990005</td>\n",
       "    </tr>\n",
       "  </tbody>\n",
       "</table>\n",
       "<p>1259 rows × 6 columns</p>\n",
       "</div>"
      ],
      "text/plain": [
       "                  High         Low        Open       Close      Volume  \\\n",
       "Date                                                                     \n",
       "2017-10-16   23.632000   23.143999   23.584000   23.373333  80632500.0   \n",
       "2017-10-17   23.747999   23.337999   23.393999   23.716667  49399500.0   \n",
       "2017-10-18   24.200001   23.608667   23.731333   23.976667  74086500.0   \n",
       "2017-10-19   23.809999   23.213333   23.704000   23.454000  75927000.0   \n",
       "2017-10-20   23.636667   22.955999   23.512667   23.006666  73956000.0   \n",
       "...                ...         ...         ...         ...         ...   \n",
       "2022-10-10  226.990005  218.360001  223.929993  222.960007  67925000.0   \n",
       "2022-10-11  225.750000  215.000000  220.949997  216.500000  77013200.0   \n",
       "2022-10-12  219.300003  211.509995  215.330002  217.240005  66860700.0   \n",
       "2022-10-13  222.990005  206.220001  208.300003  221.720001  91483000.0   \n",
       "2022-10-14  226.259995  204.160004  224.009995  204.990005  93898700.0   \n",
       "\n",
       "             Adj Close  \n",
       "Date                    \n",
       "2017-10-16   23.373333  \n",
       "2017-10-17   23.716667  \n",
       "2017-10-18   23.976667  \n",
       "2017-10-19   23.454000  \n",
       "2017-10-20   23.006666  \n",
       "...                ...  \n",
       "2022-10-10  222.960007  \n",
       "2022-10-11  216.500000  \n",
       "2022-10-12  217.240005  \n",
       "2022-10-13  221.720001  \n",
       "2022-10-14  204.990005  \n",
       "\n",
       "[1259 rows x 6 columns]"
      ]
     },
     "execution_count": 70,
     "metadata": {},
     "output_type": "execute_result"
    }
   ],
   "source": [
    "df"
   ]
  },
  {
   "cell_type": "code",
   "execution_count": 85,
   "id": "29ab88d6",
   "metadata": {},
   "outputs": [],
   "source": [
    "#how to create a datetime object \n",
    "date=datetime(2022,9,3)\n",
    "#this has created a date time object"
   ]
  },
  {
   "cell_type": "code",
   "execution_count": 78,
   "id": "6deb0df6",
   "metadata": {},
   "outputs": [
    {
     "data": {
      "text/plain": [
       "datetime.datetime(2022, 10, 16, 12, 41, 7, 490272)"
      ]
     },
     "execution_count": 78,
     "metadata": {},
     "output_type": "execute_result"
    }
   ],
   "source": [
    "#now another function is there with whose help we can see what is the time rn\n",
    "datetime.now()\n",
    "#this tell you exact time upto micro seconds "
   ]
  },
  {
   "cell_type": "code",
   "execution_count": 87,
   "id": "9f840f52",
   "metadata": {},
   "outputs": [
    {
     "data": {
      "text/plain": [
       "datetime.date(2022, 9, 3)"
      ]
     },
     "execution_count": 87,
     "metadata": {},
     "output_type": "execute_result"
    }
   ],
   "source": [
    "date.date()\n",
    "#i.e date ki date bta na "
   ]
  },
  {
   "cell_type": "code",
   "execution_count": 88,
   "id": "ed34430a",
   "metadata": {},
   "outputs": [
    {
     "data": {
      "text/plain": [
       "3"
      ]
     },
     "execution_count": 88,
     "metadata": {},
     "output_type": "execute_result"
    }
   ],
   "source": [
    "date.day"
   ]
  },
  {
   "cell_type": "code",
   "execution_count": 89,
   "id": "b200fa08",
   "metadata": {},
   "outputs": [
    {
     "data": {
      "text/plain": [
       "5"
      ]
     },
     "execution_count": 89,
     "metadata": {},
     "output_type": "execute_result"
    }
   ],
   "source": [
    "date.weekday()"
   ]
  },
  {
   "cell_type": "code",
   "execution_count": 91,
   "id": "852861c1",
   "metadata": {},
   "outputs": [
    {
     "data": {
      "text/plain": [
       "2022"
      ]
     },
     "execution_count": 91,
     "metadata": {},
     "output_type": "execute_result"
    }
   ],
   "source": [
    "date.year"
   ]
  },
  {
   "cell_type": "code",
   "execution_count": null,
   "id": "7b950972",
   "metadata": {},
   "outputs": [],
   "source": []
  },
  {
   "cell_type": "code",
   "execution_count": 93,
   "id": "01040113",
   "metadata": {},
   "outputs": [
    {
     "data": {
      "text/plain": [
       "9"
      ]
     },
     "execution_count": 93,
     "metadata": {},
     "output_type": "execute_result"
    }
   ],
   "source": [
    "date.month"
   ]
  },
  {
   "cell_type": "code",
   "execution_count": null,
   "id": "a7d13389",
   "metadata": {},
   "outputs": [],
   "source": [
    "#time resampling \n"
   ]
  },
  {
   "cell_type": "code",
   "execution_count": null,
   "id": "f3121630",
   "metadata": {},
   "outputs": [],
   "source": []
  },
  {
   "cell_type": "code",
   "execution_count": null,
   "id": "6b6f1a0f",
   "metadata": {},
   "outputs": [],
   "source": []
  },
  {
   "cell_type": "code",
   "execution_count": null,
   "id": "d492abfa",
   "metadata": {},
   "outputs": [],
   "source": []
  },
  {
   "cell_type": "code",
   "execution_count": null,
   "id": "0740789f",
   "metadata": {},
   "outputs": [],
   "source": []
  },
  {
   "cell_type": "code",
   "execution_count": null,
   "id": "94882cae",
   "metadata": {},
   "outputs": [],
   "source": []
  },
  {
   "cell_type": "code",
   "execution_count": null,
   "id": "fbbcc8e5",
   "metadata": {},
   "outputs": [],
   "source": []
  }
 ],
 "metadata": {
  "kernelspec": {
   "display_name": "Python 3 (ipykernel)",
   "language": "python",
   "name": "python3"
  },
  "language_info": {
   "codemirror_mode": {
    "name": "ipython",
    "version": 3
   },
   "file_extension": ".py",
   "mimetype": "text/x-python",
   "name": "python",
   "nbconvert_exporter": "python",
   "pygments_lexer": "ipython3",
   "version": "3.9.7"
  }
 },
 "nbformat": 4,
 "nbformat_minor": 5
}
